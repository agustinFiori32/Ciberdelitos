{
 "cells": [
  {
   "cell_type": "code",
   "execution_count": 58,
   "metadata": {},
   "outputs": [],
   "source": [
    "import pandas as pd\n",
    "import seaborn as sns\n",
    "import matplotlib.pyplot as plt\n",
    "import numpy as np"
   ]
  },
  {
   "cell_type": "code",
   "execution_count": 59,
   "metadata": {},
   "outputs": [],
   "source": [
    "df = pd.read_excel('datos-ciberdelitos2022.xlsx')"
   ]
  },
  {
   "cell_type": "code",
   "execution_count": 60,
   "metadata": {},
   "outputs": [
    {
     "data": {
      "text/html": [
       "<div>\n",
       "<style scoped>\n",
       "    .dataframe tbody tr th:only-of-type {\n",
       "        vertical-align: middle;\n",
       "    }\n",
       "\n",
       "    .dataframe tbody tr th {\n",
       "        vertical-align: top;\n",
       "    }\n",
       "\n",
       "    .dataframe thead th {\n",
       "        text-align: right;\n",
       "    }\n",
       "</style>\n",
       "<table border=\"1\" class=\"dataframe\">\n",
       "  <thead>\n",
       "    <tr style=\"text-align: right;\">\n",
       "      <th></th>\n",
       "      <th>edad</th>\n",
       "      <th>sexo</th>\n",
       "      <th>nivel_estudio</th>\n",
       "      <th>ocupacion</th>\n",
       "      <th>p01</th>\n",
       "      <th>p02_1</th>\n",
       "      <th>p02_2</th>\n",
       "      <th>p02_3</th>\n",
       "      <th>p02_4</th>\n",
       "      <th>p03_1</th>\n",
       "      <th>...</th>\n",
       "      <th>p21_1</th>\n",
       "      <th>p21_2</th>\n",
       "      <th>p21_3</th>\n",
       "      <th>p21_4</th>\n",
       "      <th>p21_5</th>\n",
       "      <th>p21_6</th>\n",
       "      <th>p21_7</th>\n",
       "      <th>p21_8</th>\n",
       "      <th>p21_9</th>\n",
       "      <th>Columna1</th>\n",
       "    </tr>\n",
       "  </thead>\n",
       "  <tbody>\n",
       "    <tr>\n",
       "      <th>0</th>\n",
       "      <td>55</td>\n",
       "      <td>M</td>\n",
       "      <td>Secundario</td>\n",
       "      <td>Comerciante</td>\n",
       "      <td>2. Dos o tres veces a la semana</td>\n",
       "      <td>1. Cuando estoy en mi casa</td>\n",
       "      <td>NaN</td>\n",
       "      <td>NaN</td>\n",
       "      <td>NaN</td>\n",
       "      <td>NaN</td>\n",
       "      <td>...</td>\n",
       "      <td>1. Contactar a la policía/fiscalía</td>\n",
       "      <td>2. Contactar al sitio web/ proveedor</td>\n",
       "      <td>NaN</td>\n",
       "      <td>4. Contactar al proveedor de internet</td>\n",
       "      <td>5. Contactar a un organismo de defensa del con...</td>\n",
       "      <td>6. Contactar al banco</td>\n",
       "      <td>NaN</td>\n",
       "      <td>NaN</td>\n",
       "      <td>NaN</td>\n",
       "      <td>NaN</td>\n",
       "    </tr>\n",
       "    <tr>\n",
       "      <th>1</th>\n",
       "      <td>32</td>\n",
       "      <td>F</td>\n",
       "      <td>Secundario</td>\n",
       "      <td>Empleado</td>\n",
       "      <td>1. Diariamente</td>\n",
       "      <td>1. Cuando estoy en mi casa</td>\n",
       "      <td>2. En mi lugar de trabajo</td>\n",
       "      <td>3. En cualquier lugar con mis datos móviles</td>\n",
       "      <td>NaN</td>\n",
       "      <td>1. Smartphone</td>\n",
       "      <td>...</td>\n",
       "      <td>NaN</td>\n",
       "      <td>NaN</td>\n",
       "      <td>3. Reportar la situación al sitio o al mail de...</td>\n",
       "      <td>NaN</td>\n",
       "      <td>NaN</td>\n",
       "      <td>6. Contactar al banco</td>\n",
       "      <td>NaN</td>\n",
       "      <td>NaN</td>\n",
       "      <td>NaN</td>\n",
       "      <td>NaN</td>\n",
       "    </tr>\n",
       "    <tr>\n",
       "      <th>2</th>\n",
       "      <td>42</td>\n",
       "      <td>F</td>\n",
       "      <td>Terciario/Universitario</td>\n",
       "      <td>Ama de casa</td>\n",
       "      <td>1. Diariamente</td>\n",
       "      <td>NaN</td>\n",
       "      <td>NaN</td>\n",
       "      <td>3. En cualquier lugar con mis datos móviles</td>\n",
       "      <td>NaN</td>\n",
       "      <td>1. Smartphone</td>\n",
       "      <td>...</td>\n",
       "      <td>1. Contactar a la policía/fiscalía</td>\n",
       "      <td>NaN</td>\n",
       "      <td>NaN</td>\n",
       "      <td>NaN</td>\n",
       "      <td>NaN</td>\n",
       "      <td>NaN</td>\n",
       "      <td>NaN</td>\n",
       "      <td>NaN</td>\n",
       "      <td>NaN</td>\n",
       "      <td>NaN</td>\n",
       "    </tr>\n",
       "    <tr>\n",
       "      <th>3</th>\n",
       "      <td>29</td>\n",
       "      <td>M</td>\n",
       "      <td>Secundario</td>\n",
       "      <td>Comerciante</td>\n",
       "      <td>1. Diariamente</td>\n",
       "      <td>1. Cuando estoy en mi casa</td>\n",
       "      <td>NaN</td>\n",
       "      <td>NaN</td>\n",
       "      <td>NaN</td>\n",
       "      <td>1. Smartphone</td>\n",
       "      <td>...</td>\n",
       "      <td>1. Contactar a la policía/fiscalía</td>\n",
       "      <td>NaN</td>\n",
       "      <td>NaN</td>\n",
       "      <td>NaN</td>\n",
       "      <td>NaN</td>\n",
       "      <td>NaN</td>\n",
       "      <td>NaN</td>\n",
       "      <td>NaN</td>\n",
       "      <td>NaN</td>\n",
       "      <td>NaN</td>\n",
       "    </tr>\n",
       "    <tr>\n",
       "      <th>4</th>\n",
       "      <td>22</td>\n",
       "      <td>M</td>\n",
       "      <td>Secundario</td>\n",
       "      <td>Empleado</td>\n",
       "      <td>1. Diariamente</td>\n",
       "      <td>1. Cuando estoy en mi casa</td>\n",
       "      <td>2. En mi lugar de trabajo</td>\n",
       "      <td>3. En cualquier lugar con mis datos móviles</td>\n",
       "      <td>NaN</td>\n",
       "      <td>1. Smartphone</td>\n",
       "      <td>...</td>\n",
       "      <td>NaN</td>\n",
       "      <td>NaN</td>\n",
       "      <td>NaN</td>\n",
       "      <td>NaN</td>\n",
       "      <td>NaN</td>\n",
       "      <td>6. Contactar al banco</td>\n",
       "      <td>7. Contactar al proveedor de tarjeta de crédit...</td>\n",
       "      <td>NaN</td>\n",
       "      <td>NaN</td>\n",
       "      <td>NaN</td>\n",
       "    </tr>\n",
       "  </tbody>\n",
       "</table>\n",
       "<p>5 rows × 120 columns</p>\n",
       "</div>"
      ],
      "text/plain": [
       "   edad sexo            nivel_estudio    ocupacion  \\\n",
       "0    55    M               Secundario  Comerciante   \n",
       "1    32    F               Secundario     Empleado   \n",
       "2    42    F  Terciario/Universitario  Ama de casa   \n",
       "3    29    M               Secundario  Comerciante   \n",
       "4    22    M               Secundario     Empleado   \n",
       "\n",
       "                               p01                       p02_1  \\\n",
       "0  2. Dos o tres veces a la semana  1. Cuando estoy en mi casa   \n",
       "1                   1. Diariamente  1. Cuando estoy en mi casa   \n",
       "2                   1. Diariamente                         NaN   \n",
       "3                   1. Diariamente  1. Cuando estoy en mi casa   \n",
       "4                   1. Diariamente  1. Cuando estoy en mi casa   \n",
       "\n",
       "                       p02_2                                        p02_3  \\\n",
       "0                        NaN                                          NaN   \n",
       "1  2. En mi lugar de trabajo  3. En cualquier lugar con mis datos móviles   \n",
       "2                        NaN  3. En cualquier lugar con mis datos móviles   \n",
       "3                        NaN                                          NaN   \n",
       "4  2. En mi lugar de trabajo  3. En cualquier lugar con mis datos móviles   \n",
       "\n",
       "  p02_4          p03_1  ...                               p21_1  \\\n",
       "0   NaN            NaN  ...  1. Contactar a la policía/fiscalía   \n",
       "1   NaN  1. Smartphone  ...                                 NaN   \n",
       "2   NaN  1. Smartphone  ...  1. Contactar a la policía/fiscalía   \n",
       "3   NaN  1. Smartphone  ...  1. Contactar a la policía/fiscalía   \n",
       "4   NaN  1. Smartphone  ...                                 NaN   \n",
       "\n",
       "                                  p21_2  \\\n",
       "0  2. Contactar al sitio web/ proveedor   \n",
       "1                                   NaN   \n",
       "2                                   NaN   \n",
       "3                                   NaN   \n",
       "4                                   NaN   \n",
       "\n",
       "                                               p21_3  \\\n",
       "0                                                NaN   \n",
       "1  3. Reportar la situación al sitio o al mail de...   \n",
       "2                                                NaN   \n",
       "3                                                NaN   \n",
       "4                                                NaN   \n",
       "\n",
       "                                   p21_4  \\\n",
       "0  4. Contactar al proveedor de internet   \n",
       "1                                    NaN   \n",
       "2                                    NaN   \n",
       "3                                    NaN   \n",
       "4                                    NaN   \n",
       "\n",
       "                                               p21_5                  p21_6  \\\n",
       "0  5. Contactar a un organismo de defensa del con...  6. Contactar al banco   \n",
       "1                                                NaN  6. Contactar al banco   \n",
       "2                                                NaN                    NaN   \n",
       "3                                                NaN                    NaN   \n",
       "4                                                NaN  6. Contactar al banco   \n",
       "\n",
       "                                               p21_7 p21_8 p21_9 Columna1  \n",
       "0                                                NaN   NaN   NaN      NaN  \n",
       "1                                                NaN   NaN   NaN      NaN  \n",
       "2                                                NaN   NaN   NaN      NaN  \n",
       "3                                                NaN   NaN   NaN      NaN  \n",
       "4  7. Contactar al proveedor de tarjeta de crédit...   NaN   NaN      NaN  \n",
       "\n",
       "[5 rows x 120 columns]"
      ]
     },
     "execution_count": 60,
     "metadata": {},
     "output_type": "execute_result"
    }
   ],
   "source": [
    "df.head()"
   ]
  },
  {
   "cell_type": "code",
   "execution_count": 61,
   "metadata": {},
   "outputs": [
    {
     "name": "stdout",
     "output_type": "stream",
     "text": [
      "<class 'pandas.core.frame.DataFrame'>\n",
      "RangeIndex: 503 entries, 0 to 502\n",
      "Columns: 120 entries, edad to Columna1\n",
      "dtypes: float64(1), int64(1), object(118)\n",
      "memory usage: 471.7+ KB\n"
     ]
    }
   ],
   "source": [
    "df.info()"
   ]
  },
  {
   "cell_type": "code",
   "execution_count": 62,
   "metadata": {},
   "outputs": [
    {
     "data": {
      "text/plain": [
       "48.12326043737575"
      ]
     },
     "execution_count": 62,
     "metadata": {},
     "output_type": "execute_result"
    }
   ],
   "source": [
    "df['edad'].mean()"
   ]
  },
  {
   "cell_type": "code",
   "execution_count": 63,
   "metadata": {},
   "outputs": [
    {
     "name": "stderr",
     "output_type": "stream",
     "text": [
      "C:\\Users\\RTECH\\AppData\\Local\\Temp\\ipykernel_11432\\494399083.py:2: MatplotlibDeprecationWarning:\n",
      "\n",
      "The seaborn styles shipped by Matplotlib are deprecated since 3.6, as they no longer correspond to the styles shipped by seaborn. However, they will remain available as 'seaborn-v0_8-<style>'. Alternatively, directly use the seaborn API instead.\n",
      "\n"
     ]
    },
    {
     "data": {
      "image/png": "[encoded data removed]",
      "text/plain": [
       "<Figure size 800x550 with 1 Axes>"
      ]
     },
     "metadata": {},
     "output_type": "display_data"
    }
   ],
   "source": [
    "sns.histplot(df['edad'], bins=10, kde=True, color='orange')\n",
    "plt.style.use('seaborn')\n",
    "plt.xlabel('Edad')\n",
    "plt.title('Distribución de Edades en la Encuesta')\n",
    "plt.show()"
   ]
  },
  {
   "cell_type": "code",
   "execution_count": 64,
   "metadata": {},
   "outputs": [
    {
     "data": {
      "image/png": "[encoded data removed]",
      "text/plain": [
       "<Figure size 800x550 with 1 Axes>"
      ]
     },
     "metadata": {},
     "output_type": "display_data"
    }
   ],
   "source": [
    "sns.histplot(df['sexo'], bins=2, kde=False, color='lightblue')\n",
    "plt.xlabel('Sexo')\n",
    "plt.ylabel('Frecuencia')\n",
    "plt.title('Distribución del sexo en la Encuesta')\n",
    "plt.show()"
   ]
  },
  {
   "cell_type": "code",
   "execution_count": 65,
   "metadata": {},
   "outputs": [
    {
     "data": {
      "image/png": "[encoded data removed]",
      "text/plain": [
       "<Figure size 800x550 with 1 Axes>"
      ]
     },
     "metadata": {},
     "output_type": "display_data"
    }
   ],
   "source": [
    "colores = ['#FF8C00','#66B2FF']\n",
    "\n",
    "plt.pie(df['sexo'].value_counts(), startangle=140, autopct='%1.1f%%',colors=colores, wedgeprops = {\"linewidth\": 1, \"edgecolor\": \"white\"})\n",
    "plt.title('Distribución de sexo en la muestra')\n",
    "plt.legend(['M', 'F'], title=\"Sexo\", loc=\"best\")\n",
    "plt.show()\n"
   ]
  },
  {
   "cell_type": "code",
   "execution_count": 66,
   "metadata": {},
   "outputs": [
    {
     "data": {
      "text/plain": [
       "nivel_estudio\n",
       "Terciario/Universitario    289\n",
       "Secundario                 179\n",
       "Primario                    33\n",
       "Sin estudios                 2\n",
       "Name: count, dtype: int64"
      ]
     },
     "execution_count": 66,
     "metadata": {},
     "output_type": "execute_result"
    }
   ],
   "source": [
    "df['nivel_estudio'].value_counts()"
   ]
  },
  {
   "cell_type": "code",
   "execution_count": 67,
   "metadata": {},
   "outputs": [
    {
     "data": {
      "text/plain": [
       "ocupacion\n",
       "Empleado                                   108\n",
       "Jubilado                                    85\n",
       "Profesional                                 49\n",
       "Estudiante                                  39\n",
       "Docente                                     36\n",
       "Independiente                               33\n",
       "EmpleadoEstudiante                          32\n",
       "Comerciante                                 23\n",
       "Ama de casa                                 20\n",
       "IndependienteProfesional                     9\n",
       "DocenteJubilado                              7\n",
       "EstudianteIndependiente                      7\n",
       "EmpleadoIndependiente                        6\n",
       "ProfesionalJubilado                          5\n",
       "EmpleadoJubilado                             5\n",
       "DocenteProfesional                           5\n",
       "IndependienteComerciante                     4\n",
       "EmpleadoDocente                              4\n",
       "EmpleadoProfesional                          3\n",
       "IndependienteJubilado                        3\n",
       "DocenteEstudiante                            2\n",
       "ComercianteJubilado                          2\n",
       "EstudianteProfesional                        2\n",
       "EmpleadoDocenteIndependienteProfesional      1\n",
       "DocenteEstudianteProfesional                 1\n",
       "EmpleadoEstudianteIndependiente              1\n",
       "Ama de casaJubilado                          1\n",
       "EstudianteComerciante                        1\n",
       "DocenteIndependiente                         1\n",
       "EmpleadoAma de casa                          1\n",
       "Name: count, dtype: int64"
      ]
     },
     "execution_count": 67,
     "metadata": {},
     "output_type": "execute_result"
    }
   ],
   "source": [
    "df['ocupacion'].value_counts()"
   ]
  },
  {
   "cell_type": "markdown",
   "metadata": {},
   "source": [
    "Es poco eficiente analizar esto, lo voy a intentar cambiar un poco para el analisis"
   ]
  },
  {
   "cell_type": "code",
   "execution_count": 68,
   "metadata": {},
   "outputs": [],
   "source": [
    "import random"
   ]
  },
  {
   "cell_type": "code",
   "execution_count": 69,
   "metadata": {},
   "outputs": [],
   "source": [
    "ocupaciones_simples = ['Empleado', 'Jubilado', 'Profesional', 'Estudiante', 'Docente', 'Independiente', 'Comerciante', 'Ama de casa', 'EmpleadoEstudiante']\n",
    "ocupaciones_varias = []\n",
    "\n",
    "for dato in df['ocupacion']:\n",
    "    if dato not in ocupaciones_simples:\n",
    "        ocupaciones_varias.append(dato)\n",
    "\n",
    "df['ocupacion'] = df['ocupacion'].replace(ocupaciones_varias, 'Otros')\n",
    "\n",
    "df['random'] = [random.randrange(0,7) for _ in range(len(df))]\n",
    "def custom_replace(row):\n",
    "    if row['ocupacion'] == 'EmpleadoEstudiante':\n",
    "        if row['random'] >= 3:\n",
    "            return 'Empleado'\n",
    "        else:\n",
    "            return 'Estudiante'\n",
    "    else:\n",
    "        return row['ocupacion']\n",
    "df['ocupacion'] = df.apply(custom_replace, axis=1)\n",
    "\n",
    "df = df.drop('random', axis=1)"
   ]
  },
  {
   "cell_type": "code",
   "execution_count": 70,
   "metadata": {},
   "outputs": [
    {
     "data": {
      "text/plain": [
       "ocupacion\n",
       "Empleado         118\n",
       "Jubilado          85\n",
       "Otros             78\n",
       "Estudiante        61\n",
       "Profesional       49\n",
       "Docente           36\n",
       "Independiente     33\n",
       "Comerciante       23\n",
       "Ama de casa       20\n",
       "Name: count, dtype: int64"
      ]
     },
     "execution_count": 70,
     "metadata": {},
     "output_type": "execute_result"
    }
   ],
   "source": [
    "df['ocupacion'].value_counts()"
   ]
  },
  {
   "cell_type": "code",
   "execution_count": 71,
   "metadata": {},
   "outputs": [
    {
     "name": "stderr",
     "output_type": "stream",
     "text": [
      "c:\\Python311\\Lib\\site-packages\\seaborn\\axisgrid.py:118: UserWarning:\n",
      "\n",
      "The figure layout has changed to tight\n",
      "\n",
      "C:\\Users\\RTECH\\AppData\\Local\\Temp\\ipykernel_11432\\3897172721.py:2: MatplotlibDeprecationWarning:\n",
      "\n",
      "The seaborn styles shipped by Matplotlib are deprecated since 3.6, as they no longer correspond to the styles shipped by seaborn. However, they will remain available as 'seaborn-v0_8-<style>'. Alternatively, directly use the seaborn API instead.\n",
      "\n"
     ]
    },
    {
     "data": {
      "image/png": "[encoded data removed]",
      "text/plain": [
       "<Figure size 1000x500 with 1 Axes>"
      ]
     },
     "metadata": {},
     "output_type": "display_data"
    }
   ],
   "source": [
    "sns.catplot(data=df, x='ocupacion', kind='count', aspect=2)\n",
    "plt.style.use('seaborn')\n",
    "plt.title('Ocupaciones de los encuestados')\n",
    "plt.show()"
   ]
  },
  {
   "cell_type": "code",
   "execution_count": 72,
   "metadata": {},
   "outputs": [
    {
     "data": {
      "image/png": "[encoded data removed]",
      "text/plain": [
       "<Figure size 800x550 with 1 Axes>"
      ]
     },
     "metadata": {},
     "output_type": "display_data"
    }
   ],
   "source": [
    "colores_4 = ['#FF8C00', '#66B2FF', '#8A2BE2', '#FFD700']\n",
    "\n",
    "plt.pie(df['nivel_estudio'].value_counts(), startangle=140, colors=colores_4, wedgeprops = {\"linewidth\": 1, \"edgecolor\": \"white\"})\n",
    "plt.title('Nivel de estudio de los encuestados')\n",
    "plt.legend(['Terciario/Universitario', 'Secundario', 'Primario', 'Sin Estudios'], title=\"Nivel Alcanzado\", loc=\"best\", bbox_to_anchor=(0.93, 0.5))\n",
    "plt.show()"
   ]
  },
  {
   "cell_type": "code",
   "execution_count": 73,
   "metadata": {},
   "outputs": [
    {
     "name": "stderr",
     "output_type": "stream",
     "text": [
      "c:\\Python311\\Lib\\site-packages\\seaborn\\axisgrid.py:118: UserWarning:\n",
      "\n",
      "The figure layout has changed to tight\n",
      "\n"
     ]
    },
    {
     "data": {
      "image/png": "[encoded data removed]",
      "text/plain": [
       "<Figure size 1000x500 with 1 Axes>"
      ]
     },
     "metadata": {},
     "output_type": "display_data"
    }
   ],
   "source": [
    "sns.catplot(data=df, x='nivel_estudio', kind='count', aspect=2, color='#FFA500')\n",
    "plt.title('Nivel de estudio de los encuestados')\n",
    "plt.show()"
   ]
  },
  {
   "cell_type": "markdown",
   "metadata": {},
   "source": [
    "Se finalizó con el análisis acerca de la información de las personas encuestadas, se proseguirá con el análisis de la encuesta como tal"
   ]
  },
  {
   "cell_type": "code",
   "execution_count": 74,
   "metadata": {},
   "outputs": [],
   "source": [
    "columnas_p02 = df.filter(like='p02_')\n",
    "resumen_p02 = columnas_p02.apply(lambda x: x.value_counts()).T.fillna(0)"
   ]
  },
  {
   "cell_type": "code",
   "execution_count": 75,
   "metadata": {},
   "outputs": [
    {
     "data": {
      "text/html": [
       "<div>\n",
       "<style scoped>\n",
       "    .dataframe tbody tr th:only-of-type {\n",
       "        vertical-align: middle;\n",
       "    }\n",
       "\n",
       "    .dataframe tbody tr th {\n",
       "        vertical-align: top;\n",
       "    }\n",
       "\n",
       "    .dataframe thead th {\n",
       "        text-align: right;\n",
       "    }\n",
       "</style>\n",
       "<table border=\"1\" class=\"dataframe\">\n",
       "  <thead>\n",
       "    <tr style=\"text-align: right;\">\n",
       "      <th></th>\n",
       "      <th>1. Cuando estoy en mi casa</th>\n",
       "      <th>2. En mi lugar de trabajo</th>\n",
       "      <th>3. En cualquier lugar con mis datos móviles</th>\n",
       "      <th>4. En cualquier lugar con conexión wifi pública</th>\n",
       "    </tr>\n",
       "  </thead>\n",
       "  <tbody>\n",
       "    <tr>\n",
       "      <th>p02_1</th>\n",
       "      <td>435.0</td>\n",
       "      <td>0.0</td>\n",
       "      <td>0.0</td>\n",
       "      <td>0.0</td>\n",
       "    </tr>\n",
       "    <tr>\n",
       "      <th>p02_2</th>\n",
       "      <td>0.0</td>\n",
       "      <td>191.0</td>\n",
       "      <td>0.0</td>\n",
       "      <td>0.0</td>\n",
       "    </tr>\n",
       "    <tr>\n",
       "      <th>p02_3</th>\n",
       "      <td>0.0</td>\n",
       "      <td>0.0</td>\n",
       "      <td>348.0</td>\n",
       "      <td>0.0</td>\n",
       "    </tr>\n",
       "    <tr>\n",
       "      <th>p02_4</th>\n",
       "      <td>0.0</td>\n",
       "      <td>0.0</td>\n",
       "      <td>0.0</td>\n",
       "      <td>135.0</td>\n",
       "    </tr>\n",
       "  </tbody>\n",
       "</table>\n",
       "</div>"
      ],
      "text/plain": [
       "       1. Cuando estoy en mi casa  2. En mi lugar de trabajo  \\\n",
       "p02_1                       435.0                        0.0   \n",
       "p02_2                         0.0                      191.0   \n",
       "p02_3                         0.0                        0.0   \n",
       "p02_4                         0.0                        0.0   \n",
       "\n",
       "       3. En cualquier lugar con mis datos móviles  \\\n",
       "p02_1                                          0.0   \n",
       "p02_2                                          0.0   \n",
       "p02_3                                        348.0   \n",
       "p02_4                                          0.0   \n",
       "\n",
       "       4. En cualquier lugar con conexión wifi pública  \n",
       "p02_1                                              0.0  \n",
       "p02_2                                              0.0  \n",
       "p02_3                                              0.0  \n",
       "p02_4                                            135.0  "
      ]
     },
     "execution_count": 75,
     "metadata": {},
     "output_type": "execute_result"
    }
   ],
   "source": [
    "resumen_p02"
   ]
  },
  {
   "cell_type": "code",
   "execution_count": 76,
   "metadata": {},
   "outputs": [],
   "source": [
    "resumen_p02['Total'] = resumen_p02.sum(axis=1)"
   ]
  },
  {
   "cell_type": "code",
   "execution_count": 77,
   "metadata": {},
   "outputs": [
    {
     "data": {
      "text/html": [
       "<div>\n",
       "<style scoped>\n",
       "    .dataframe tbody tr th:only-of-type {\n",
       "        vertical-align: middle;\n",
       "    }\n",
       "\n",
       "    .dataframe tbody tr th {\n",
       "        vertical-align: top;\n",
       "    }\n",
       "\n",
       "    .dataframe thead th {\n",
       "        text-align: right;\n",
       "    }\n",
       "</style>\n",
       "<table border=\"1\" class=\"dataframe\">\n",
       "  <thead>\n",
       "    <tr style=\"text-align: right;\">\n",
       "      <th></th>\n",
       "      <th>1. Cuando estoy en mi casa</th>\n",
       "      <th>2. En mi lugar de trabajo</th>\n",
       "      <th>3. En cualquier lugar con mis datos móviles</th>\n",
       "      <th>4. En cualquier lugar con conexión wifi pública</th>\n",
       "      <th>Total</th>\n",
       "    </tr>\n",
       "  </thead>\n",
       "  <tbody>\n",
       "    <tr>\n",
       "      <th>p02_1</th>\n",
       "      <td>435.0</td>\n",
       "      <td>0.0</td>\n",
       "      <td>0.0</td>\n",
       "      <td>0.0</td>\n",
       "      <td>435.0</td>\n",
       "    </tr>\n",
       "    <tr>\n",
       "      <th>p02_2</th>\n",
       "      <td>0.0</td>\n",
       "      <td>191.0</td>\n",
       "      <td>0.0</td>\n",
       "      <td>0.0</td>\n",
       "      <td>191.0</td>\n",
       "    </tr>\n",
       "    <tr>\n",
       "      <th>p02_3</th>\n",
       "      <td>0.0</td>\n",
       "      <td>0.0</td>\n",
       "      <td>348.0</td>\n",
       "      <td>0.0</td>\n",
       "      <td>348.0</td>\n",
       "    </tr>\n",
       "    <tr>\n",
       "      <th>p02_4</th>\n",
       "      <td>0.0</td>\n",
       "      <td>0.0</td>\n",
       "      <td>0.0</td>\n",
       "      <td>135.0</td>\n",
       "      <td>135.0</td>\n",
       "    </tr>\n",
       "  </tbody>\n",
       "</table>\n",
       "</div>"
      ],
      "text/plain": [
       "       1. Cuando estoy en mi casa  2. En mi lugar de trabajo  \\\n",
       "p02_1                       435.0                        0.0   \n",
       "p02_2                         0.0                      191.0   \n",
       "p02_3                         0.0                        0.0   \n",
       "p02_4                         0.0                        0.0   \n",
       "\n",
       "       3. En cualquier lugar con mis datos móviles  \\\n",
       "p02_1                                          0.0   \n",
       "p02_2                                          0.0   \n",
       "p02_3                                        348.0   \n",
       "p02_4                                          0.0   \n",
       "\n",
       "       4. En cualquier lugar con conexión wifi pública  Total  \n",
       "p02_1                                              0.0  435.0  \n",
       "p02_2                                              0.0  191.0  \n",
       "p02_3                                              0.0  348.0  \n",
       "p02_4                                            135.0  135.0  "
      ]
     },
     "execution_count": 77,
     "metadata": {},
     "output_type": "execute_result"
    }
   ],
   "source": [
    "resumen_p02"
   ]
  },
  {
   "cell_type": "code",
   "execution_count": 79,
   "metadata": {},
   "outputs": [
    {
     "data": {
      "image/png": "[encoded data removed]",
      "text/plain": [
       "<Figure size 800x550 with 1 Axes>"
      ]
     },
     "metadata": {},
     "output_type": "display_data"
    }
   ],
   "source": [
    "resumen_p02_bar = resumen_p02.sort_values(by='Total', ascending=True)\n",
    "\n",
    "plt.barh(y= resumen_p02_bar.columns[0:4], width=resumen_p02_bar['Total'], color=colores_4[::-1])\n",
    "plt.title('¿Donde usa internet generalmente?')\n",
    "plt.show()"
   ]
  },
  {
   "cell_type": "code",
   "execution_count": 80,
   "metadata": {},
   "outputs": [
    {
     "data": {
      "text/plain": [
       "0      3. Algo informado\n",
       "1      4. Bien informado\n",
       "2      3. Algo informado\n",
       "3      2. Poco informado\n",
       "4      4. Bien informado\n",
       "             ...        \n",
       "498    2. Poco informado\n",
       "499    3. Algo informado\n",
       "500    3. Algo informado\n",
       "501    4. Bien informado\n",
       "502    3. Algo informado\n",
       "Name: p08, Length: 503, dtype: object"
      ]
     },
     "execution_count": 80,
     "metadata": {},
     "output_type": "execute_result"
    }
   ],
   "source": [
    "df['p08']"
   ]
  },
  {
   "cell_type": "code",
   "execution_count": 81,
   "metadata": {},
   "outputs": [],
   "source": [
    "import plotly.express as px"
   ]
  },
  {
   "cell_type": "code",
   "execution_count": 82,
   "metadata": {},
   "outputs": [
    {
     "data": {
      "application/vnd.plotly.v1+json": {
       "config": {
        "plotlyServerURL": "https://plot.ly"
       },
       "data": [
        {
         "hovertemplate": "x=%{x}<br>y=%{y}<extra></extra>",
         "legendgroup": "",
         "marker": {
          "color": "#636efa"
         },
         "name": "",
         "opacity": 1,
         "orientation": "v",
         "showlegend": false,
         "type": "funnel",
         "x": [
          "3. Algo informado",
          "4. Bien informado",
          "2. Poco informado",
          "5. Muy bien informado",
          "1. Nada informado"
         ],
         "xaxis": "x",
         "y": [
          37.97,
          26.84,
          20.08,
          8.75,
          6.36
         ],
         "yaxis": "y"
        }
       ],
       "layout": {
        "legend": {
         "tracegroupgap": 0
        },
        "template": {
         "data": {
          "bar": [
           {
            "error_x": {
             "color": "#2a3f5f"
            },
            "error_y": {
             "color": "#2a3f5f"
            },
            "marker": {
             "line": {
              "color": "#E5ECF6",
              "width": 0.5
             },
             "pattern": {
              "fillmode": "overlay",
              "size": 10,
              "solidity": 0.2
             }
            },
            "type": "bar"
           }
          ],
          "barpolar": [
           {
            "marker": {
             "line": {
              "color": "#E5ECF6",
              "width": 0.5
             },
             "pattern": {
              "fillmode": "overlay",
              "size": 10,
              "solidity": 0.2
             }
            },
            "type": "barpolar"
           }
          ],
          "carpet": [
           {
            "aaxis": {
             "endlinecolor": "#2a3f5f",
             "gridcolor": "white",
             "linecolor": "white",
             "minorgridcolor": "white",
             "startlinecolor": "#2a3f5f"
            },
            "baxis": {
             "endlinecolor": "#2a3f5f",
             "gridcolor": "white",
             "linecolor": "white",
             "minorgridcolor": "white",
             "startlinecolor": "#2a3f5f"
            },
            "type": "carpet"
           }
          ],
          "choropleth": [
           {
            "colorbar": {
             "outlinewidth": 0,
             "ticks": ""
            },
            "type": "choropleth"
           }
          ],
          "contour": [
           {
            "colorbar": {
             "outlinewidth": 0,
             "ticks": ""
            },
            "colorscale": [
             [
              0,
              "#0d0887"
             ],
             [
              0.1111111111111111,
              "#46039f"
             ],
             [
              0.2222222222222222,
              "#7201a8"
             ],
             [
              0.3333333333333333,
              "#9c179e"
             ],
             [
              0.4444444444444444,
              "#bd3786"
             ],
             [
              0.5555555555555556,
              "#d8576b"
             ],
             [
              0.6666666666666666,
              "#ed7953"
             ],
             [
              0.7777777777777778,
              "#fb9f3a"
             ],
             [
              0.8888888888888888,
              "#fdca26"
             ],
             [
              1,
              "#f0f921"
             ]
            ],
            "type": "contour"
           }
          ],
          "contourcarpet": [
           {
            "colorbar": {
             "outlinewidth": 0,
             "ticks": ""
            },
            "type": "contourcarpet"
           }
          ],
          "heatmap": [
           {
            "colorbar": {
             "outlinewidth": 0,
             "ticks": ""
            },
            "colorscale": [
             [
              0,
              "#0d0887"
             ],
             [
              0.1111111111111111,
              "#46039f"
             ],
             [
              0.2222222222222222,
              "#7201a8"
             ],
             [
              0.3333333333333333,
              "#9c179e"
             ],
             [
              0.4444444444444444,
              "#bd3786"
             ],
             [
              0.5555555555555556,
              "#d8576b"
             ],
             [
              0.6666666666666666,
              "#ed7953"
             ],
             [
              0.7777777777777778,
              "#fb9f3a"
             ],
             [
              0.8888888888888888,
              "#fdca26"
             ],
             [
              1,
              "#f0f921"
             ]
            ],
            "type": "heatmap"
           }
          ],
          "heatmapgl": [
           {
            "colorbar": {
             "outlinewidth": 0,
             "ticks": ""
            },
            "colorscale": [
             [
              0,
              "#0d0887"
             ],
             [
              0.1111111111111111,
              "#46039f"
             ],
             [
              0.2222222222222222,
              "#7201a8"
             ],
             [
              0.3333333333333333,
              "#9c179e"
             ],
             [
              0.4444444444444444,
              "#bd3786"
             ],
             [
              0.5555555555555556,
              "#d8576b"
             ],
             [
              0.6666666666666666,
              "#ed7953"
             ],
             [
              0.7777777777777778,
              "#fb9f3a"
             ],
             [
              0.8888888888888888,
              "#fdca26"
             ],
             [
              1,
              "#f0f921"
             ]
            ],
            "type": "heatmapgl"
           }
          ],
          "histogram": [
           {
            "marker": {
             "pattern": {
              "fillmode": "overlay",
              "size": 10,
              "solidity": 0.2
             }
            },
            "type": "histogram"
           }
          ],
          "histogram2d": [
           {
            "colorbar": {
             "outlinewidth": 0,
             "ticks": ""
            },
            "colorscale": [
             [
              0,
              "#0d0887"
             ],
             [
              0.1111111111111111,
              "#46039f"
             ],
             [
              0.2222222222222222,
              "#7201a8"
             ],
             [
              0.3333333333333333,
              "#9c179e"
             ],
             [
              0.4444444444444444,
              "#bd3786"
             ],
             [
              0.5555555555555556,
              "#d8576b"
             ],
             [
              0.6666666666666666,
              "#ed7953"
             ],
             [
              0.7777777777777778,
              "#fb9f3a"
             ],
             [
              0.8888888888888888,
              "#fdca26"
             ],
             [
              1,
              "#f0f921"
             ]
            ],
            "type": "histogram2d"
           }
          ],
          "histogram2dcontour": [
           {
            "colorbar": {
             "outlinewidth": 0,
             "ticks": ""
            },
            "colorscale": [
             [
              0,
              "#0d0887"
             ],
             [
              0.1111111111111111,
              "#46039f"
             ],
             [
              0.2222222222222222,
              "#7201a8"
             ],
             [
              0.3333333333333333,
              "#9c179e"
             ],
             [
              0.4444444444444444,
              "#bd3786"
             ],
             [
              0.5555555555555556,
              "#d8576b"
             ],
             [
              0.6666666666666666,
              "#ed7953"
             ],
             [
              0.7777777777777778,
              "#fb9f3a"
             ],
             [
              0.8888888888888888,
              "#fdca26"
             ],
             [
              1,
              "#f0f921"
             ]
            ],
            "type": "histogram2dcontour"
           }
          ],
          "mesh3d": [
           {
            "colorbar": {
             "outlinewidth": 0,
             "ticks": ""
            },
            "type": "mesh3d"
           }
          ],
          "parcoords": [
           {
            "line": {
             "colorbar": {
              "outlinewidth": 0,
              "ticks": ""
             }
            },
            "type": "parcoords"
           }
          ],
          "pie": [
           {
            "automargin": true,
            "type": "pie"
           }
          ],
          "scatter": [
           {
            "fillpattern": {
             "fillmode": "overlay",
             "size": 10,
             "solidity": 0.2
            },
            "type": "scatter"
           }
          ],
          "scatter3d": [
           {
            "line": {
             "colorbar": {
              "outlinewidth": 0,
              "ticks": ""
             }
            },
            "marker": {
             "colorbar": {
              "outlinewidth": 0,
              "ticks": ""
             }
            },
            "type": "scatter3d"
           }
          ],
          "scattercarpet": [
           {
            "marker": {
             "colorbar": {
              "outlinewidth": 0,
              "ticks": ""
             }
            },
            "type": "scattercarpet"
           }
          ],
          "scattergeo": [
           {
            "marker": {
             "colorbar": {
              "outlinewidth": 0,
              "ticks": ""
             }
            },
            "type": "scattergeo"
           }
          ],
          "scattergl": [
           {
            "marker": {
             "colorbar": {
              "outlinewidth": 0,
              "ticks": ""
             }
            },
            "type": "scattergl"
           }
          ],
          "scattermapbox": [
           {
            "marker": {
             "colorbar": {
              "outlinewidth": 0,
              "ticks": ""
             }
            },
            "type": "scattermapbox"
           }
          ],
          "scatterpolar": [
           {
            "marker": {
             "colorbar": {
              "outlinewidth": 0,
              "ticks": ""
             }
            },
            "type": "scatterpolar"
           }
          ],
          "scatterpolargl": [
           {
            "marker": {
             "colorbar": {
              "outlinewidth": 0,
              "ticks": ""
             }
            },
            "type": "scatterpolargl"
           }
          ],
          "scatterternary": [
           {
            "marker": {
             "colorbar": {
              "outlinewidth": 0,
              "ticks": ""
             }
            },
            "type": "scatterternary"
           }
          ],
          "surface": [
           {
            "colorbar": {
             "outlinewidth": 0,
             "ticks": ""
            },
            "colorscale": [
             [
              0,
              "#0d0887"
             ],
             [
              0.1111111111111111,
              "#46039f"
             ],
             [
              0.2222222222222222,
              "#7201a8"
             ],
             [
              0.3333333333333333,
              "#9c179e"
             ],
             [
              0.4444444444444444,
              "#bd3786"
             ],
             [
              0.5555555555555556,
              "#d8576b"
             ],
             [
              0.6666666666666666,
              "#ed7953"
             ],
             [
              0.7777777777777778,
              "#fb9f3a"
             ],
             [
              0.8888888888888888,
              "#fdca26"
             ],
             [
              1,
              "#f0f921"
             ]
            ],
            "type": "surface"
           }
          ],
          "table": [
           {
            "cells": {
             "fill": {
              "color": "#EBF0F8"
             },
             "line": {
              "color": "white"
             }
            },
            "header": {
             "fill": {
              "color": "#C8D4E3"
             },
             "line": {
              "color": "white"
             }
            },
            "type": "table"
           }
          ]
         },
         "layout": {
          "annotationdefaults": {
           "arrowcolor": "#2a3f5f",
           "arrowhead": 0,
           "arrowwidth": 1
          },
          "autotypenumbers": "strict",
          "coloraxis": {
           "colorbar": {
            "outlinewidth": 0,
            "ticks": ""
           }
          },
          "colorscale": {
           "diverging": [
            [
             0,
             "#8e0152"
            ],
            [
             0.1,
             "#c51b7d"
            ],
            [
             0.2,
             "#de77ae"
            ],
            [
             0.3,
             "#f1b6da"
            ],
            [
             0.4,
             "#fde0ef"
            ],
            [
             0.5,
             "#f7f7f7"
            ],
            [
             0.6,
             "#e6f5d0"
            ],
            [
             0.7,
             "#b8e186"
            ],
            [
             0.8,
             "#7fbc41"
            ],
            [
             0.9,
             "#4d9221"
            ],
            [
             1,
             "#276419"
            ]
           ],
           "sequential": [
            [
             0,
             "#0d0887"
            ],
            [
             0.1111111111111111,
             "#46039f"
            ],
            [
             0.2222222222222222,
             "#7201a8"
            ],
            [
             0.3333333333333333,
             "#9c179e"
            ],
            [
             0.4444444444444444,
             "#bd3786"
            ],
            [
             0.5555555555555556,
             "#d8576b"
            ],
            [
             0.6666666666666666,
             "#ed7953"
            ],
            [
             0.7777777777777778,
             "#fb9f3a"
            ],
            [
             0.8888888888888888,
             "#fdca26"
            ],
            [
             1,
             "#f0f921"
            ]
           ],
           "sequentialminus": [
            [
             0,
             "#0d0887"
            ],
            [
             0.1111111111111111,
             "#46039f"
            ],
            [
             0.2222222222222222,
             "#7201a8"
            ],
            [
             0.3333333333333333,
             "#9c179e"
            ],
            [
             0.4444444444444444,
             "#bd3786"
            ],
            [
             0.5555555555555556,
             "#d8576b"
            ],
            [
             0.6666666666666666,
             "#ed7953"
            ],
            [
             0.7777777777777778,
             "#fb9f3a"
            ],
            [
             0.8888888888888888,
             "#fdca26"
            ],
            [
             1,
             "#f0f921"
            ]
           ]
          },
          "colorway": [
           "#636efa",
           "#EF553B",
           "#00cc96",
           "#ab63fa",
           "#FFA15A",
           "#19d3f3",
           "#FF6692",
           "#B6E880",
           "#FF97FF",
           "#FECB52"
          ],
          "font": {
           "color": "#2a3f5f"
          },
          "geo": {
           "bgcolor": "white",
           "lakecolor": "white",
           "landcolor": "#E5ECF6",
           "showlakes": true,
           "showland": true,
           "subunitcolor": "white"
          },
          "hoverlabel": {
           "align": "left"
          },
          "hovermode": "closest",
          "mapbox": {
           "style": "light"
          },
          "paper_bgcolor": "white",
          "plot_bgcolor": "#E5ECF6",
          "polar": {
           "angularaxis": {
            "gridcolor": "white",
            "linecolor": "white",
            "ticks": ""
           },
           "bgcolor": "#E5ECF6",
           "radialaxis": {
            "gridcolor": "white",
            "linecolor": "white",
            "ticks": ""
           }
          },
          "scene": {
           "xaxis": {
            "backgroundcolor": "#E5ECF6",
            "gridcolor": "white",
            "gridwidth": 2,
            "linecolor": "white",
            "showbackground": true,
            "ticks": "",
            "zerolinecolor": "white"
           },
           "yaxis": {
            "backgroundcolor": "#E5ECF6",
            "gridcolor": "white",
            "gridwidth": 2,
            "linecolor": "white",
            "showbackground": true,
            "ticks": "",
            "zerolinecolor": "white"
           },
           "zaxis": {
            "backgroundcolor": "#E5ECF6",
            "gridcolor": "white",
            "gridwidth": 2,
            "linecolor": "white",
            "showbackground": true,
            "ticks": "",
            "zerolinecolor": "white"
           }
          },
          "shapedefaults": {
           "line": {
            "color": "#2a3f5f"
           }
          },
          "ternary": {
           "aaxis": {
            "gridcolor": "white",
            "linecolor": "white",
            "ticks": ""
           },
           "baxis": {
            "gridcolor": "white",
            "linecolor": "white",
            "ticks": ""
           },
           "bgcolor": "#E5ECF6",
           "caxis": {
            "gridcolor": "white",
            "linecolor": "white",
            "ticks": ""
           }
          },
          "title": {
           "x": 0.05
          },
          "xaxis": {
           "automargin": true,
           "gridcolor": "white",
           "linecolor": "white",
           "ticks": "",
           "title": {
            "standoff": 15
           },
           "zerolinecolor": "white",
           "zerolinewidth": 2
          },
          "yaxis": {
           "automargin": true,
           "gridcolor": "white",
           "linecolor": "white",
           "ticks": "",
           "title": {
            "standoff": 15
           },
           "zerolinecolor": "white",
           "zerolinewidth": 2
          }
         }
        },
        "title": {
         "text": "¿Que tan informados están los entrevistados?"
        },
        "xaxis": {
         "anchor": "y",
         "domain": [
          0,
          1
         ],
         "title": {
          "text": "x"
         }
        },
        "yaxis": {
         "anchor": "x",
         "domain": [
          0,
          1
         ],
         "tickformat": "%",
         "title": {
          "text": "y"
         }
        }
       }
      }
     },
     "metadata": {},
     "output_type": "display_data"
    }
   ],
   "source": [
    "porcentaje_conocimiento = (df['p08'].value_counts() * 100) / 503\n",
    "decimales = 2\n",
    "porcentaje_conocimiento = porcentaje_conocimiento.round(decimales)\n",
    "\n",
    "fig = px.funnel(x = df['p08'].unique(), y = porcentaje_conocimiento, title = \"¿Que tan informados están los entrevistados?\", opacity = 1)\n",
    "fig.update_layout(yaxis=dict(tickformat='%'))\n",
    "fig.show()"
   ]
  },
  {
   "cell_type": "code",
   "execution_count": 83,
   "metadata": {},
   "outputs": [
    {
     "data": {
      "application/vnd.plotly.v1+json": {
       "config": {
        "plotlyServerURL": "https://plot.ly"
       },
       "data": [
        {
         "hovertemplate": "x=%{x}<br>y=%{y}<extra></extra>",
         "legendgroup": "",
         "marker": {
          "color": "#636efa"
         },
         "name": "",
         "opacity": 1,
         "orientation": "h",
         "showlegend": false,
         "type": "funnel",
         "x": [
          37.97,
          26.84,
          20.08,
          8.75,
          6.36
         ],
         "xaxis": "x",
         "y": [
          "3. Algo informado",
          "4. Bien informado",
          "2. Poco informado",
          "5. Muy bien informado",
          "1. Nada informado"
         ],
         "yaxis": "y"
        }
       ],
       "layout": {
        "legend": {
         "tracegroupgap": 0
        },
        "template": {
         "data": {
          "bar": [
           {
            "error_x": {
             "color": "#2a3f5f"
            },
            "error_y": {
             "color": "#2a3f5f"
            },
            "marker": {
             "line": {
              "color": "#E5ECF6",
              "width": 0.5
             },
             "pattern": {
              "fillmode": "overlay",
              "size": 10,
              "solidity": 0.2
             }
            },
            "type": "bar"
           }
          ],
          "barpolar": [
           {
            "marker": {
             "line": {
              "color": "#E5ECF6",
              "width": 0.5
             },
             "pattern": {
              "fillmode": "overlay",
              "size": 10,
              "solidity": 0.2
             }
            },
            "type": "barpolar"
           }
          ],
          "carpet": [
           {
            "aaxis": {
             "endlinecolor": "#2a3f5f",
             "gridcolor": "white",
             "linecolor": "white",
             "minorgridcolor": "white",
             "startlinecolor": "#2a3f5f"
            },
            "baxis": {
             "endlinecolor": "#2a3f5f",
             "gridcolor": "white",
             "linecolor": "white",
             "minorgridcolor": "white",
             "startlinecolor": "#2a3f5f"
            },
            "type": "carpet"
           }
          ],
          "choropleth": [
           {
            "colorbar": {
             "outlinewidth": 0,
             "ticks": ""
            },
            "type": "choropleth"
           }
          ],
          "contour": [
           {
            "colorbar": {
             "outlinewidth": 0,
             "ticks": ""
            },
            "colorscale": [
             [
              0,
              "#0d0887"
             ],
             [
              0.1111111111111111,
              "#46039f"
             ],
             [
              0.2222222222222222,
              "#7201a8"
             ],
             [
              0.3333333333333333,
              "#9c179e"
             ],
             [
              0.4444444444444444,
              "#bd3786"
             ],
             [
              0.5555555555555556,
              "#d8576b"
             ],
             [
              0.6666666666666666,
              "#ed7953"
             ],
             [
              0.7777777777777778,
              "#fb9f3a"
             ],
             [
              0.8888888888888888,
              "#fdca26"
             ],
             [
              1,
              "#f0f921"
             ]
            ],
            "type": "contour"
           }
          ],
          "contourcarpet": [
           {
            "colorbar": {
             "outlinewidth": 0,
             "ticks": ""
            },
            "type": "contourcarpet"
           }
          ],
          "heatmap": [
           {
            "colorbar": {
             "outlinewidth": 0,
             "ticks": ""
            },
            "colorscale": [
             [
              0,
              "#0d0887"
             ],
             [
              0.1111111111111111,
              "#46039f"
             ],
             [
              0.2222222222222222,
              "#7201a8"
             ],
             [
              0.3333333333333333,
              "#9c179e"
             ],
             [
              0.4444444444444444,
              "#bd3786"
             ],
             [
              0.5555555555555556,
              "#d8576b"
             ],
             [
              0.6666666666666666,
              "#ed7953"
             ],
             [
              0.7777777777777778,
              "#fb9f3a"
             ],
             [
              0.8888888888888888,
              "#fdca26"
             ],
             [
              1,
              "#f0f921"
             ]
            ],
            "type": "heatmap"
           }
          ],
          "heatmapgl": [
           {
            "colorbar": {
             "outlinewidth": 0,
             "ticks": ""
            },
            "colorscale": [
             [
              0,
              "#0d0887"
             ],
             [
              0.1111111111111111,
              "#46039f"
             ],
             [
              0.2222222222222222,
              "#7201a8"
             ],
             [
              0.3333333333333333,
              "#9c179e"
             ],
             [
              0.4444444444444444,
              "#bd3786"
             ],
             [
              0.5555555555555556,
              "#d8576b"
             ],
             [
              0.6666666666666666,
              "#ed7953"
             ],
             [
              0.7777777777777778,
              "#fb9f3a"
             ],
             [
              0.8888888888888888,
              "#fdca26"
             ],
             [
              1,
              "#f0f921"
             ]
            ],
            "type": "heatmapgl"
           }
          ],
          "histogram": [
           {
            "marker": {
             "pattern": {
              "fillmode": "overlay",
              "size": 10,
              "solidity": 0.2
             }
            },
            "type": "histogram"
           }
          ],
          "histogram2d": [
           {
            "colorbar": {
             "outlinewidth": 0,
             "ticks": ""
            },
            "colorscale": [
             [
              0,
              "#0d0887"
             ],
             [
              0.1111111111111111,
              "#46039f"
             ],
             [
              0.2222222222222222,
              "#7201a8"
             ],
             [
              0.3333333333333333,
              "#9c179e"
             ],
             [
              0.4444444444444444,
              "#bd3786"
             ],
             [
              0.5555555555555556,
              "#d8576b"
             ],
             [
              0.6666666666666666,
              "#ed7953"
             ],
             [
              0.7777777777777778,
              "#fb9f3a"
             ],
             [
              0.8888888888888888,
              "#fdca26"
             ],
             [
              1,
              "#f0f921"
             ]
            ],
            "type": "histogram2d"
           }
          ],
          "histogram2dcontour": [
           {
            "colorbar": {
             "outlinewidth": 0,
             "ticks": ""
            },
            "colorscale": [
             [
              0,
              "#0d0887"
             ],
             [
              0.1111111111111111,
              "#46039f"
             ],
             [
              0.2222222222222222,
              "#7201a8"
             ],
             [
              0.3333333333333333,
              "#9c179e"
             ],
             [
              0.4444444444444444,
              "#bd3786"
             ],
             [
              0.5555555555555556,
              "#d8576b"
             ],
             [
              0.6666666666666666,
              "#ed7953"
             ],
             [
              0.7777777777777778,
              "#fb9f3a"
             ],
             [
              0.8888888888888888,
              "#fdca26"
             ],
             [
              1,
              "#f0f921"
             ]
            ],
            "type": "histogram2dcontour"
           }
          ],
          "mesh3d": [
           {
            "colorbar": {
             "outlinewidth": 0,
             "ticks": ""
            },
            "type": "mesh3d"
           }
          ],
          "parcoords": [
           {
            "line": {
             "colorbar": {
              "outlinewidth": 0,
              "ticks": ""
             }
            },
            "type": "parcoords"
           }
          ],
          "pie": [
           {
            "automargin": true,
            "type": "pie"
           }
          ],
          "scatter": [
           {
            "fillpattern": {
             "fillmode": "overlay",
             "size": 10,
             "solidity": 0.2
            },
            "type": "scatter"
           }
          ],
          "scatter3d": [
           {
            "line": {
             "colorbar": {
              "outlinewidth": 0,
              "ticks": ""
             }
            },
            "marker": {
             "colorbar": {
              "outlinewidth": 0,
              "ticks": ""
             }
            },
            "type": "scatter3d"
           }
          ],
          "scattercarpet": [
           {
            "marker": {
             "colorbar": {
              "outlinewidth": 0,
              "ticks": ""
             }
            },
            "type": "scattercarpet"
           }
          ],
          "scattergeo": [
           {
            "marker": {
             "colorbar": {
              "outlinewidth": 0,
              "ticks": ""
             }
            },
            "type": "scattergeo"
           }
          ],
          "scattergl": [
           {
            "marker": {
             "colorbar": {
              "outlinewidth": 0,
              "ticks": ""
             }
            },
            "type": "scattergl"
           }
          ],
          "scattermapbox": [
           {
            "marker": {
             "colorbar": {
              "outlinewidth": 0,
              "ticks": ""
             }
            },
            "type": "scattermapbox"
           }
          ],
          "scatterpolar": [
           {
            "marker": {
             "colorbar": {
              "outlinewidth": 0,
              "ticks": ""
             }
            },
            "type": "scatterpolar"
           }
          ],
          "scatterpolargl": [
           {
            "marker": {
             "colorbar": {
              "outlinewidth": 0,
              "ticks": ""
             }
            },
            "type": "scatterpolargl"
           }
          ],
          "scatterternary": [
           {
            "marker": {
             "colorbar": {
              "outlinewidth": 0,
              "ticks": ""
             }
            },
            "type": "scatterternary"
           }
          ],
          "surface": [
           {
            "colorbar": {
             "outlinewidth": 0,
             "ticks": ""
            },
            "colorscale": [
             [
              0,
              "#0d0887"
             ],
             [
              0.1111111111111111,
              "#46039f"
             ],
             [
              0.2222222222222222,
              "#7201a8"
             ],
             [
              0.3333333333333333,
              "#9c179e"
             ],
             [
              0.4444444444444444,
              "#bd3786"
             ],
             [
              0.5555555555555556,
              "#d8576b"
             ],
             [
              0.6666666666666666,
              "#ed7953"
             ],
             [
              0.7777777777777778,
              "#fb9f3a"
             ],
             [
              0.8888888888888888,
              "#fdca26"
             ],
             [
              1,
              "#f0f921"
             ]
            ],
            "type": "surface"
           }
          ],
          "table": [
           {
            "cells": {
             "fill": {
              "color": "#EBF0F8"
             },
             "line": {
              "color": "white"
             }
            },
            "header": {
             "fill": {
              "color": "#C8D4E3"
             },
             "line": {
              "color": "white"
             }
            },
            "type": "table"
           }
          ]
         },
         "layout": {
          "annotationdefaults": {
           "arrowcolor": "#2a3f5f",
           "arrowhead": 0,
           "arrowwidth": 1
          },
          "autotypenumbers": "strict",
          "coloraxis": {
           "colorbar": {
            "outlinewidth": 0,
            "ticks": ""
           }
          },
          "colorscale": {
           "diverging": [
            [
             0,
             "#8e0152"
            ],
            [
             0.1,
             "#c51b7d"
            ],
            [
             0.2,
             "#de77ae"
            ],
            [
             0.3,
             "#f1b6da"
            ],
            [
             0.4,
             "#fde0ef"
            ],
            [
             0.5,
             "#f7f7f7"
            ],
            [
             0.6,
             "#e6f5d0"
            ],
            [
             0.7,
             "#b8e186"
            ],
            [
             0.8,
             "#7fbc41"
            ],
            [
             0.9,
             "#4d9221"
            ],
            [
             1,
             "#276419"
            ]
           ],
           "sequential": [
            [
             0,
             "#0d0887"
            ],
            [
             0.1111111111111111,
             "#46039f"
            ],
            [
             0.2222222222222222,
             "#7201a8"
            ],
            [
             0.3333333333333333,
             "#9c179e"
            ],
            [
             0.4444444444444444,
             "#bd3786"
            ],
            [
             0.5555555555555556,
             "#d8576b"
            ],
            [
             0.6666666666666666,
             "#ed7953"
            ],
            [
             0.7777777777777778,
             "#fb9f3a"
            ],
            [
             0.8888888888888888,
             "#fdca26"
            ],
            [
             1,
             "#f0f921"
            ]
           ],
           "sequentialminus": [
            [
             0,
             "#0d0887"
            ],
            [
             0.1111111111111111,
             "#46039f"
            ],
            [
             0.2222222222222222,
             "#7201a8"
            ],
            [
             0.3333333333333333,
             "#9c179e"
            ],
            [
             0.4444444444444444,
             "#bd3786"
            ],
            [
             0.5555555555555556,
             "#d8576b"
            ],
            [
             0.6666666666666666,
             "#ed7953"
            ],
            [
             0.7777777777777778,
             "#fb9f3a"
            ],
            [
             0.8888888888888888,
             "#fdca26"
            ],
            [
             1,
             "#f0f921"
            ]
           ]
          },
          "colorway": [
           "#636efa",
           "#EF553B",
           "#00cc96",
           "#ab63fa",
           "#FFA15A",
           "#19d3f3",
           "#FF6692",
           "#B6E880",
           "#FF97FF",
           "#FECB52"
          ],
          "font": {
           "color": "#2a3f5f"
          },
          "geo": {
           "bgcolor": "white",
           "lakecolor": "white",
           "landcolor": "#E5ECF6",
           "showlakes": true,
           "showland": true,
           "subunitcolor": "white"
          },
          "hoverlabel": {
           "align": "left"
          },
          "hovermode": "closest",
          "mapbox": {
           "style": "light"
          },
          "paper_bgcolor": "white",
          "plot_bgcolor": "#E5ECF6",
          "polar": {
           "angularaxis": {
            "gridcolor": "white",
            "linecolor": "white",
            "ticks": ""
           },
           "bgcolor": "#E5ECF6",
           "radialaxis": {
            "gridcolor": "white",
            "linecolor": "white",
            "ticks": ""
           }
          },
          "scene": {
           "xaxis": {
            "backgroundcolor": "#E5ECF6",
            "gridcolor": "white",
            "gridwidth": 2,
            "linecolor": "white",
            "showbackground": true,
            "ticks": "",
            "zerolinecolor": "white"
           },
           "yaxis": {
            "backgroundcolor": "#E5ECF6",
            "gridcolor": "white",
            "gridwidth": 2,
            "linecolor": "white",
            "showbackground": true,
            "ticks": "",
            "zerolinecolor": "white"
           },
           "zaxis": {
            "backgroundcolor": "#E5ECF6",
            "gridcolor": "white",
            "gridwidth": 2,
            "linecolor": "white",
            "showbackground": true,
            "ticks": "",
            "zerolinecolor": "white"
           }
          },
          "shapedefaults": {
           "line": {
            "color": "#2a3f5f"
           }
          },
          "ternary": {
           "aaxis": {
            "gridcolor": "white",
            "linecolor": "white",
            "ticks": ""
           },
           "baxis": {
            "gridcolor": "white",
            "linecolor": "white",
            "ticks": ""
           },
           "bgcolor": "#E5ECF6",
           "caxis": {
            "gridcolor": "white",
            "linecolor": "white",
            "ticks": ""
           }
          },
          "title": {
           "x": 0.05
          },
          "xaxis": {
           "automargin": true,
           "gridcolor": "white",
           "linecolor": "white",
           "ticks": "",
           "title": {
            "standoff": 15
           },
           "zerolinecolor": "white",
           "zerolinewidth": 2
          },
          "yaxis": {
           "automargin": true,
           "gridcolor": "white",
           "linecolor": "white",
           "ticks": "",
           "title": {
            "standoff": 15
           },
           "zerolinecolor": "white",
           "zerolinewidth": 2
          }
         }
        },
        "title": {
         "text": "¿Que tan informados están los entrevistados?"
        },
        "xaxis": {
         "anchor": "y",
         "domain": [
          0,
          1
         ],
         "title": {
          "text": "x"
         }
        },
        "yaxis": {
         "anchor": "x",
         "domain": [
          0,
          1
         ],
         "tickformat": "%",
         "title": {
          "text": "y"
         }
        }
       }
      }
     },
     "metadata": {},
     "output_type": "display_data"
    }
   ],
   "source": [
    "fig = px.funnel(y = df['p08'].unique(), x = porcentaje_conocimiento, title = \"¿Que tan informados están los entrevistados?\", opacity = 1)\n",
    "fig.update_layout(yaxis=dict(tickformat='%'))\n",
    "fig.show()"
   ]
  },
  {
   "cell_type": "code",
   "execution_count": 84,
   "metadata": {},
   "outputs": [],
   "source": [
    "columnas_p07 = df.filter(like='p07_')\n",
    "resumen_p07 = columnas_p07.apply(lambda x: x.value_counts()).T.fillna(0)"
   ]
  },
  {
   "cell_type": "code",
   "execution_count": 85,
   "metadata": {},
   "outputs": [],
   "source": [
    "resumen_p07 = resumen_p07[sorted(resumen_p07.columns, key=lambda x: int(x.split('.')[0]))]"
   ]
  },
  {
   "cell_type": "code",
   "execution_count": 86,
   "metadata": {},
   "outputs": [
    {
     "data": {
      "text/html": [
       "<div>\n",
       "<style scoped>\n",
       "    .dataframe tbody tr th:only-of-type {\n",
       "        vertical-align: middle;\n",
       "    }\n",
       "\n",
       "    .dataframe tbody tr th {\n",
       "        vertical-align: top;\n",
       "    }\n",
       "\n",
       "    .dataframe thead th {\n",
       "        text-align: right;\n",
       "    }\n",
       "</style>\n",
       "<table border=\"1\" class=\"dataframe\">\n",
       "  <thead>\n",
       "    <tr style=\"text-align: right;\">\n",
       "      <th></th>\n",
       "      <th>1. Soy poco propenso a comprar bienes o servicios en línea</th>\n",
       "      <th>2. Soy poco propenso a utilizar el Homebanking</th>\n",
       "      <th>3. Evito publicar información personal y/o sensible en internet</th>\n",
       "      <th>4. Utilizo la verificación en dos pasos en mis cuentas</th>\n",
       "      <th>5. Solo visito sitios web que conozco y en los que confío</th>\n",
       "      <th>6. Uso diferentes contraseñas para diferentes sitios</th>\n",
       "      <th>7. No abro correos electrónicos de personas desconocidas</th>\n",
       "      <th>8. Sólo uso mis propios dispositivos</th>\n",
       "      <th>9. Ha instalado software antivirus</th>\n",
       "      <th>10. Es probable que cancele una compra en línea debido a sospechas sobre el vendedor o Sitio web</th>\n",
       "      <th>11. Cambio regularmente y de manera voluntaria mis contraseñas</th>\n",
       "      <th>12. Uso voluntariamente contraseñas más complejas que antes</th>\n",
       "      <th>13. Uso un administrador de contraseñas</th>\n",
       "      <th>14. Uso características biométricas (reconocimiento facial, huella digital)</th>\n",
       "      <th>15. Evito entrar a Internet desde de accesos no seguros o desconocidos</th>\n",
       "      <th>16. Verifico que el navegador no guarde mis contraseñas automáticamente</th>\n",
       "      <th>17. Verifico que los sitios web a los que accedo poseen el “candadito” en la barra de direcciones que acredite que se trata de un sitio seguro</th>\n",
       "      <th>18. Verifico que el nombre del sitio web al que accedo se corresponde con el que quiero visitar</th>\n",
       "      <th>19. Ninguno</th>\n",
       "    </tr>\n",
       "  </thead>\n",
       "  <tbody>\n",
       "    <tr>\n",
       "      <th>p07_1</th>\n",
       "      <td>146.0</td>\n",
       "      <td>0.0</td>\n",
       "      <td>0.0</td>\n",
       "      <td>0.0</td>\n",
       "      <td>0.0</td>\n",
       "      <td>0.0</td>\n",
       "      <td>0.0</td>\n",
       "      <td>0.0</td>\n",
       "      <td>0.0</td>\n",
       "      <td>0.0</td>\n",
       "      <td>0.0</td>\n",
       "      <td>0.0</td>\n",
       "      <td>0.0</td>\n",
       "      <td>0.0</td>\n",
       "      <td>0.0</td>\n",
       "      <td>0.0</td>\n",
       "      <td>0.0</td>\n",
       "      <td>0.0</td>\n",
       "      <td>0.0</td>\n",
       "    </tr>\n",
       "    <tr>\n",
       "      <th>p07_10</th>\n",
       "      <td>0.0</td>\n",
       "      <td>89.0</td>\n",
       "      <td>0.0</td>\n",
       "      <td>0.0</td>\n",
       "      <td>0.0</td>\n",
       "      <td>0.0</td>\n",
       "      <td>0.0</td>\n",
       "      <td>0.0</td>\n",
       "      <td>0.0</td>\n",
       "      <td>0.0</td>\n",
       "      <td>0.0</td>\n",
       "      <td>0.0</td>\n",
       "      <td>0.0</td>\n",
       "      <td>0.0</td>\n",
       "      <td>0.0</td>\n",
       "      <td>0.0</td>\n",
       "      <td>0.0</td>\n",
       "      <td>0.0</td>\n",
       "      <td>0.0</td>\n",
       "    </tr>\n",
       "    <tr>\n",
       "      <th>p07_11</th>\n",
       "      <td>0.0</td>\n",
       "      <td>0.0</td>\n",
       "      <td>302.0</td>\n",
       "      <td>0.0</td>\n",
       "      <td>0.0</td>\n",
       "      <td>0.0</td>\n",
       "      <td>0.0</td>\n",
       "      <td>0.0</td>\n",
       "      <td>0.0</td>\n",
       "      <td>0.0</td>\n",
       "      <td>0.0</td>\n",
       "      <td>0.0</td>\n",
       "      <td>0.0</td>\n",
       "      <td>0.0</td>\n",
       "      <td>0.0</td>\n",
       "      <td>0.0</td>\n",
       "      <td>0.0</td>\n",
       "      <td>0.0</td>\n",
       "      <td>0.0</td>\n",
       "    </tr>\n",
       "    <tr>\n",
       "      <th>p07_12</th>\n",
       "      <td>0.0</td>\n",
       "      <td>0.0</td>\n",
       "      <td>0.0</td>\n",
       "      <td>169.0</td>\n",
       "      <td>0.0</td>\n",
       "      <td>0.0</td>\n",
       "      <td>0.0</td>\n",
       "      <td>0.0</td>\n",
       "      <td>0.0</td>\n",
       "      <td>0.0</td>\n",
       "      <td>0.0</td>\n",
       "      <td>0.0</td>\n",
       "      <td>0.0</td>\n",
       "      <td>0.0</td>\n",
       "      <td>0.0</td>\n",
       "      <td>0.0</td>\n",
       "      <td>0.0</td>\n",
       "      <td>0.0</td>\n",
       "      <td>0.0</td>\n",
       "    </tr>\n",
       "    <tr>\n",
       "      <th>p07_13</th>\n",
       "      <td>0.0</td>\n",
       "      <td>0.0</td>\n",
       "      <td>0.0</td>\n",
       "      <td>0.0</td>\n",
       "      <td>199.0</td>\n",
       "      <td>0.0</td>\n",
       "      <td>0.0</td>\n",
       "      <td>0.0</td>\n",
       "      <td>0.0</td>\n",
       "      <td>0.0</td>\n",
       "      <td>0.0</td>\n",
       "      <td>0.0</td>\n",
       "      <td>0.0</td>\n",
       "      <td>0.0</td>\n",
       "      <td>0.0</td>\n",
       "      <td>0.0</td>\n",
       "      <td>0.0</td>\n",
       "      <td>0.0</td>\n",
       "      <td>0.0</td>\n",
       "    </tr>\n",
       "    <tr>\n",
       "      <th>p07_14</th>\n",
       "      <td>0.0</td>\n",
       "      <td>0.0</td>\n",
       "      <td>0.0</td>\n",
       "      <td>0.0</td>\n",
       "      <td>0.0</td>\n",
       "      <td>215.0</td>\n",
       "      <td>0.0</td>\n",
       "      <td>0.0</td>\n",
       "      <td>0.0</td>\n",
       "      <td>0.0</td>\n",
       "      <td>0.0</td>\n",
       "      <td>0.0</td>\n",
       "      <td>0.0</td>\n",
       "      <td>0.0</td>\n",
       "      <td>0.0</td>\n",
       "      <td>0.0</td>\n",
       "      <td>0.0</td>\n",
       "      <td>0.0</td>\n",
       "      <td>0.0</td>\n",
       "    </tr>\n",
       "    <tr>\n",
       "      <th>p07_15</th>\n",
       "      <td>0.0</td>\n",
       "      <td>0.0</td>\n",
       "      <td>0.0</td>\n",
       "      <td>0.0</td>\n",
       "      <td>0.0</td>\n",
       "      <td>0.0</td>\n",
       "      <td>210.0</td>\n",
       "      <td>0.0</td>\n",
       "      <td>0.0</td>\n",
       "      <td>0.0</td>\n",
       "      <td>0.0</td>\n",
       "      <td>0.0</td>\n",
       "      <td>0.0</td>\n",
       "      <td>0.0</td>\n",
       "      <td>0.0</td>\n",
       "      <td>0.0</td>\n",
       "      <td>0.0</td>\n",
       "      <td>0.0</td>\n",
       "      <td>0.0</td>\n",
       "    </tr>\n",
       "    <tr>\n",
       "      <th>p07_16</th>\n",
       "      <td>0.0</td>\n",
       "      <td>0.0</td>\n",
       "      <td>0.0</td>\n",
       "      <td>0.0</td>\n",
       "      <td>0.0</td>\n",
       "      <td>0.0</td>\n",
       "      <td>0.0</td>\n",
       "      <td>240.0</td>\n",
       "      <td>0.0</td>\n",
       "      <td>0.0</td>\n",
       "      <td>0.0</td>\n",
       "      <td>0.0</td>\n",
       "      <td>0.0</td>\n",
       "      <td>0.0</td>\n",
       "      <td>0.0</td>\n",
       "      <td>0.0</td>\n",
       "      <td>0.0</td>\n",
       "      <td>0.0</td>\n",
       "      <td>0.0</td>\n",
       "    </tr>\n",
       "    <tr>\n",
       "      <th>p07_17</th>\n",
       "      <td>0.0</td>\n",
       "      <td>0.0</td>\n",
       "      <td>0.0</td>\n",
       "      <td>0.0</td>\n",
       "      <td>0.0</td>\n",
       "      <td>0.0</td>\n",
       "      <td>0.0</td>\n",
       "      <td>0.0</td>\n",
       "      <td>202.0</td>\n",
       "      <td>0.0</td>\n",
       "      <td>0.0</td>\n",
       "      <td>0.0</td>\n",
       "      <td>0.0</td>\n",
       "      <td>0.0</td>\n",
       "      <td>0.0</td>\n",
       "      <td>0.0</td>\n",
       "      <td>0.0</td>\n",
       "      <td>0.0</td>\n",
       "      <td>0.0</td>\n",
       "    </tr>\n",
       "    <tr>\n",
       "      <th>p07_18</th>\n",
       "      <td>0.0</td>\n",
       "      <td>0.0</td>\n",
       "      <td>0.0</td>\n",
       "      <td>0.0</td>\n",
       "      <td>0.0</td>\n",
       "      <td>0.0</td>\n",
       "      <td>0.0</td>\n",
       "      <td>0.0</td>\n",
       "      <td>0.0</td>\n",
       "      <td>133.0</td>\n",
       "      <td>0.0</td>\n",
       "      <td>0.0</td>\n",
       "      <td>0.0</td>\n",
       "      <td>0.0</td>\n",
       "      <td>0.0</td>\n",
       "      <td>0.0</td>\n",
       "      <td>0.0</td>\n",
       "      <td>0.0</td>\n",
       "      <td>0.0</td>\n",
       "    </tr>\n",
       "    <tr>\n",
       "      <th>p07_19</th>\n",
       "      <td>0.0</td>\n",
       "      <td>0.0</td>\n",
       "      <td>0.0</td>\n",
       "      <td>0.0</td>\n",
       "      <td>0.0</td>\n",
       "      <td>0.0</td>\n",
       "      <td>0.0</td>\n",
       "      <td>0.0</td>\n",
       "      <td>0.0</td>\n",
       "      <td>0.0</td>\n",
       "      <td>62.0</td>\n",
       "      <td>0.0</td>\n",
       "      <td>0.0</td>\n",
       "      <td>0.0</td>\n",
       "      <td>0.0</td>\n",
       "      <td>0.0</td>\n",
       "      <td>0.0</td>\n",
       "      <td>0.0</td>\n",
       "      <td>0.0</td>\n",
       "    </tr>\n",
       "    <tr>\n",
       "      <th>p07_2</th>\n",
       "      <td>0.0</td>\n",
       "      <td>0.0</td>\n",
       "      <td>0.0</td>\n",
       "      <td>0.0</td>\n",
       "      <td>0.0</td>\n",
       "      <td>0.0</td>\n",
       "      <td>0.0</td>\n",
       "      <td>0.0</td>\n",
       "      <td>0.0</td>\n",
       "      <td>0.0</td>\n",
       "      <td>0.0</td>\n",
       "      <td>142.0</td>\n",
       "      <td>0.0</td>\n",
       "      <td>0.0</td>\n",
       "      <td>0.0</td>\n",
       "      <td>0.0</td>\n",
       "      <td>0.0</td>\n",
       "      <td>0.0</td>\n",
       "      <td>0.0</td>\n",
       "    </tr>\n",
       "    <tr>\n",
       "      <th>p07_3</th>\n",
       "      <td>0.0</td>\n",
       "      <td>0.0</td>\n",
       "      <td>0.0</td>\n",
       "      <td>0.0</td>\n",
       "      <td>0.0</td>\n",
       "      <td>0.0</td>\n",
       "      <td>0.0</td>\n",
       "      <td>0.0</td>\n",
       "      <td>0.0</td>\n",
       "      <td>0.0</td>\n",
       "      <td>0.0</td>\n",
       "      <td>0.0</td>\n",
       "      <td>56.0</td>\n",
       "      <td>0.0</td>\n",
       "      <td>0.0</td>\n",
       "      <td>0.0</td>\n",
       "      <td>0.0</td>\n",
       "      <td>0.0</td>\n",
       "      <td>0.0</td>\n",
       "    </tr>\n",
       "    <tr>\n",
       "      <th>p07_4</th>\n",
       "      <td>0.0</td>\n",
       "      <td>0.0</td>\n",
       "      <td>0.0</td>\n",
       "      <td>0.0</td>\n",
       "      <td>0.0</td>\n",
       "      <td>0.0</td>\n",
       "      <td>0.0</td>\n",
       "      <td>0.0</td>\n",
       "      <td>0.0</td>\n",
       "      <td>0.0</td>\n",
       "      <td>0.0</td>\n",
       "      <td>0.0</td>\n",
       "      <td>0.0</td>\n",
       "      <td>193.0</td>\n",
       "      <td>0.0</td>\n",
       "      <td>0.0</td>\n",
       "      <td>0.0</td>\n",
       "      <td>0.0</td>\n",
       "      <td>0.0</td>\n",
       "    </tr>\n",
       "    <tr>\n",
       "      <th>p07_5</th>\n",
       "      <td>0.0</td>\n",
       "      <td>0.0</td>\n",
       "      <td>0.0</td>\n",
       "      <td>0.0</td>\n",
       "      <td>0.0</td>\n",
       "      <td>0.0</td>\n",
       "      <td>0.0</td>\n",
       "      <td>0.0</td>\n",
       "      <td>0.0</td>\n",
       "      <td>0.0</td>\n",
       "      <td>0.0</td>\n",
       "      <td>0.0</td>\n",
       "      <td>0.0</td>\n",
       "      <td>0.0</td>\n",
       "      <td>182.0</td>\n",
       "      <td>0.0</td>\n",
       "      <td>0.0</td>\n",
       "      <td>0.0</td>\n",
       "      <td>0.0</td>\n",
       "    </tr>\n",
       "    <tr>\n",
       "      <th>p07_6</th>\n",
       "      <td>0.0</td>\n",
       "      <td>0.0</td>\n",
       "      <td>0.0</td>\n",
       "      <td>0.0</td>\n",
       "      <td>0.0</td>\n",
       "      <td>0.0</td>\n",
       "      <td>0.0</td>\n",
       "      <td>0.0</td>\n",
       "      <td>0.0</td>\n",
       "      <td>0.0</td>\n",
       "      <td>0.0</td>\n",
       "      <td>0.0</td>\n",
       "      <td>0.0</td>\n",
       "      <td>0.0</td>\n",
       "      <td>0.0</td>\n",
       "      <td>189.0</td>\n",
       "      <td>0.0</td>\n",
       "      <td>0.0</td>\n",
       "      <td>0.0</td>\n",
       "    </tr>\n",
       "    <tr>\n",
       "      <th>p07_7</th>\n",
       "      <td>0.0</td>\n",
       "      <td>0.0</td>\n",
       "      <td>0.0</td>\n",
       "      <td>0.0</td>\n",
       "      <td>0.0</td>\n",
       "      <td>0.0</td>\n",
       "      <td>0.0</td>\n",
       "      <td>0.0</td>\n",
       "      <td>0.0</td>\n",
       "      <td>0.0</td>\n",
       "      <td>0.0</td>\n",
       "      <td>0.0</td>\n",
       "      <td>0.0</td>\n",
       "      <td>0.0</td>\n",
       "      <td>0.0</td>\n",
       "      <td>0.0</td>\n",
       "      <td>119.0</td>\n",
       "      <td>0.0</td>\n",
       "      <td>0.0</td>\n",
       "    </tr>\n",
       "    <tr>\n",
       "      <th>p07_8</th>\n",
       "      <td>0.0</td>\n",
       "      <td>0.0</td>\n",
       "      <td>0.0</td>\n",
       "      <td>0.0</td>\n",
       "      <td>0.0</td>\n",
       "      <td>0.0</td>\n",
       "      <td>0.0</td>\n",
       "      <td>0.0</td>\n",
       "      <td>0.0</td>\n",
       "      <td>0.0</td>\n",
       "      <td>0.0</td>\n",
       "      <td>0.0</td>\n",
       "      <td>0.0</td>\n",
       "      <td>0.0</td>\n",
       "      <td>0.0</td>\n",
       "      <td>0.0</td>\n",
       "      <td>0.0</td>\n",
       "      <td>139.0</td>\n",
       "      <td>0.0</td>\n",
       "    </tr>\n",
       "    <tr>\n",
       "      <th>p07_9</th>\n",
       "      <td>0.0</td>\n",
       "      <td>0.0</td>\n",
       "      <td>0.0</td>\n",
       "      <td>0.0</td>\n",
       "      <td>0.0</td>\n",
       "      <td>0.0</td>\n",
       "      <td>0.0</td>\n",
       "      <td>0.0</td>\n",
       "      <td>0.0</td>\n",
       "      <td>0.0</td>\n",
       "      <td>0.0</td>\n",
       "      <td>0.0</td>\n",
       "      <td>0.0</td>\n",
       "      <td>0.0</td>\n",
       "      <td>0.0</td>\n",
       "      <td>0.0</td>\n",
       "      <td>0.0</td>\n",
       "      <td>0.0</td>\n",
       "      <td>20.0</td>\n",
       "    </tr>\n",
       "  </tbody>\n",
       "</table>\n",
       "</div>"
      ],
      "text/plain": [
       "        1. Soy poco propenso a comprar bienes o servicios en línea  \\\n",
       "p07_1                                               146.0            \n",
       "p07_10                                                0.0            \n",
       "p07_11                                                0.0            \n",
       "p07_12                                                0.0            \n",
       "p07_13                                                0.0            \n",
       "p07_14                                                0.0            \n",
       "p07_15                                                0.0            \n",
       "p07_16                                                0.0            \n",
       "p07_17                                                0.0            \n",
       "p07_18                                                0.0            \n",
       "p07_19                                                0.0            \n",
       "p07_2                                                 0.0            \n",
       "p07_3                                                 0.0            \n",
       "p07_4                                                 0.0            \n",
       "p07_5                                                 0.0            \n",
       "p07_6                                                 0.0            \n",
       "p07_7                                                 0.0            \n",
       "p07_8                                                 0.0            \n",
       "p07_9                                                 0.0            \n",
       "\n",
       "        2. Soy poco propenso a utilizar el Homebanking  \\\n",
       "p07_1                                              0.0   \n",
       "p07_10                                            89.0   \n",
       "p07_11                                             0.0   \n",
       "p07_12                                             0.0   \n",
       "p07_13                                             0.0   \n",
       "p07_14                                             0.0   \n",
       "p07_15                                             0.0   \n",
       "p07_16                                             0.0   \n",
       "p07_17                                             0.0   \n",
       "p07_18                                             0.0   \n",
       "p07_19                                             0.0   \n",
       "p07_2                                              0.0   \n",
       "p07_3                                              0.0   \n",
       "p07_4                                              0.0   \n",
       "p07_5                                              0.0   \n",
       "p07_6                                              0.0   \n",
       "p07_7                                              0.0   \n",
       "p07_8                                              0.0   \n",
       "p07_9                                              0.0   \n",
       "\n",
       "        3. Evito publicar información personal y/o sensible en internet  \\\n",
       "p07_1                                                 0.0                 \n",
       "p07_10                                                0.0                 \n",
       "p07_11                                              302.0                 \n",
       "p07_12                                                0.0                 \n",
       "p07_13                                                0.0                 \n",
       "p07_14                                                0.0                 \n",
       "p07_15                                                0.0                 \n",
       "p07_16                                                0.0                 \n",
       "p07_17                                                0.0                 \n",
       "p07_18                                                0.0                 \n",
       "p07_19                                                0.0                 \n",
       "p07_2                                                 0.0                 \n",
       "p07_3                                                 0.0                 \n",
       "p07_4                                                 0.0                 \n",
       "p07_5                                                 0.0                 \n",
       "p07_6                                                 0.0                 \n",
       "p07_7                                                 0.0                 \n",
       "p07_8                                                 0.0                 \n",
       "p07_9                                                 0.0                 \n",
       "\n",
       "        4. Utilizo la verificación en dos pasos en mis cuentas  \\\n",
       "p07_1                                                 0.0        \n",
       "p07_10                                                0.0        \n",
       "p07_11                                                0.0        \n",
       "p07_12                                              169.0        \n",
       "p07_13                                                0.0        \n",
       "p07_14                                                0.0        \n",
       "p07_15                                                0.0        \n",
       "p07_16                                                0.0        \n",
       "p07_17                                                0.0        \n",
       "p07_18                                                0.0        \n",
       "p07_19                                                0.0        \n",
       "p07_2                                                 0.0        \n",
       "p07_3                                                 0.0        \n",
       "p07_4                                                 0.0        \n",
       "p07_5                                                 0.0        \n",
       "p07_6                                                 0.0        \n",
       "p07_7                                                 0.0        \n",
       "p07_8                                                 0.0        \n",
       "p07_9                                                 0.0        \n",
       "\n",
       "        5. Solo visito sitios web que conozco y en los que confío  \\\n",
       "p07_1                                                 0.0           \n",
       "p07_10                                                0.0           \n",
       "p07_11                                                0.0           \n",
       "p07_12                                                0.0           \n",
       "p07_13                                              199.0           \n",
       "p07_14                                                0.0           \n",
       "p07_15                                                0.0           \n",
       "p07_16                                                0.0           \n",
       "p07_17                                                0.0           \n",
       "p07_18                                                0.0           \n",
       "p07_19                                                0.0           \n",
       "p07_2                                                 0.0           \n",
       "p07_3                                                 0.0           \n",
       "p07_4                                                 0.0           \n",
       "p07_5                                                 0.0           \n",
       "p07_6                                                 0.0           \n",
       "p07_7                                                 0.0           \n",
       "p07_8                                                 0.0           \n",
       "p07_9                                                 0.0           \n",
       "\n",
       "        6. Uso diferentes contraseñas para diferentes sitios  \\\n",
       "p07_1                                                 0.0      \n",
       "p07_10                                                0.0      \n",
       "p07_11                                                0.0      \n",
       "p07_12                                                0.0      \n",
       "p07_13                                                0.0      \n",
       "p07_14                                              215.0      \n",
       "p07_15                                                0.0      \n",
       "p07_16                                                0.0      \n",
       "p07_17                                                0.0      \n",
       "p07_18                                                0.0      \n",
       "p07_19                                                0.0      \n",
       "p07_2                                                 0.0      \n",
       "p07_3                                                 0.0      \n",
       "p07_4                                                 0.0      \n",
       "p07_5                                                 0.0      \n",
       "p07_6                                                 0.0      \n",
       "p07_7                                                 0.0      \n",
       "p07_8                                                 0.0      \n",
       "p07_9                                                 0.0      \n",
       "\n",
       "        7. No abro correos electrónicos de personas desconocidas  \\\n",
       "p07_1                                                 0.0          \n",
       "p07_10                                                0.0          \n",
       "p07_11                                                0.0          \n",
       "p07_12                                                0.0          \n",
       "p07_13                                                0.0          \n",
       "p07_14                                                0.0          \n",
       "p07_15                                              210.0          \n",
       "p07_16                                                0.0          \n",
       "p07_17                                                0.0          \n",
       "p07_18                                                0.0          \n",
       "p07_19                                                0.0          \n",
       "p07_2                                                 0.0          \n",
       "p07_3                                                 0.0          \n",
       "p07_4                                                 0.0          \n",
       "p07_5                                                 0.0          \n",
       "p07_6                                                 0.0          \n",
       "p07_7                                                 0.0          \n",
       "p07_8                                                 0.0          \n",
       "p07_9                                                 0.0          \n",
       "\n",
       "        8. Sólo uso mis propios dispositivos  \\\n",
       "p07_1                                    0.0   \n",
       "p07_10                                   0.0   \n",
       "p07_11                                   0.0   \n",
       "p07_12                                   0.0   \n",
       "p07_13                                   0.0   \n",
       "p07_14                                   0.0   \n",
       "p07_15                                   0.0   \n",
       "p07_16                                 240.0   \n",
       "p07_17                                   0.0   \n",
       "p07_18                                   0.0   \n",
       "p07_19                                   0.0   \n",
       "p07_2                                    0.0   \n",
       "p07_3                                    0.0   \n",
       "p07_4                                    0.0   \n",
       "p07_5                                    0.0   \n",
       "p07_6                                    0.0   \n",
       "p07_7                                    0.0   \n",
       "p07_8                                    0.0   \n",
       "p07_9                                    0.0   \n",
       "\n",
       "        9. Ha instalado software antivirus  \\\n",
       "p07_1                                  0.0   \n",
       "p07_10                                 0.0   \n",
       "p07_11                                 0.0   \n",
       "p07_12                                 0.0   \n",
       "p07_13                                 0.0   \n",
       "p07_14                                 0.0   \n",
       "p07_15                                 0.0   \n",
       "p07_16                                 0.0   \n",
       "p07_17                               202.0   \n",
       "p07_18                                 0.0   \n",
       "p07_19                                 0.0   \n",
       "p07_2                                  0.0   \n",
       "p07_3                                  0.0   \n",
       "p07_4                                  0.0   \n",
       "p07_5                                  0.0   \n",
       "p07_6                                  0.0   \n",
       "p07_7                                  0.0   \n",
       "p07_8                                  0.0   \n",
       "p07_9                                  0.0   \n",
       "\n",
       "        10. Es probable que cancele una compra en línea debido a sospechas sobre el vendedor o Sitio web  \\\n",
       "p07_1                                                 0.0                                                  \n",
       "p07_10                                                0.0                                                  \n",
       "p07_11                                                0.0                                                  \n",
       "p07_12                                                0.0                                                  \n",
       "p07_13                                                0.0                                                  \n",
       "p07_14                                                0.0                                                  \n",
       "p07_15                                                0.0                                                  \n",
       "p07_16                                                0.0                                                  \n",
       "p07_17                                                0.0                                                  \n",
       "p07_18                                              133.0                                                  \n",
       "p07_19                                                0.0                                                  \n",
       "p07_2                                                 0.0                                                  \n",
       "p07_3                                                 0.0                                                  \n",
       "p07_4                                                 0.0                                                  \n",
       "p07_5                                                 0.0                                                  \n",
       "p07_6                                                 0.0                                                  \n",
       "p07_7                                                 0.0                                                  \n",
       "p07_8                                                 0.0                                                  \n",
       "p07_9                                                 0.0                                                  \n",
       "\n",
       "        11. Cambio regularmente y de manera voluntaria mis contraseñas  \\\n",
       "p07_1                                                 0.0                \n",
       "p07_10                                                0.0                \n",
       "p07_11                                                0.0                \n",
       "p07_12                                                0.0                \n",
       "p07_13                                                0.0                \n",
       "p07_14                                                0.0                \n",
       "p07_15                                                0.0                \n",
       "p07_16                                                0.0                \n",
       "p07_17                                                0.0                \n",
       "p07_18                                                0.0                \n",
       "p07_19                                               62.0                \n",
       "p07_2                                                 0.0                \n",
       "p07_3                                                 0.0                \n",
       "p07_4                                                 0.0                \n",
       "p07_5                                                 0.0                \n",
       "p07_6                                                 0.0                \n",
       "p07_7                                                 0.0                \n",
       "p07_8                                                 0.0                \n",
       "p07_9                                                 0.0                \n",
       "\n",
       "        12. Uso voluntariamente contraseñas más complejas que antes  \\\n",
       "p07_1                                                 0.0             \n",
       "p07_10                                                0.0             \n",
       "p07_11                                                0.0             \n",
       "p07_12                                                0.0             \n",
       "p07_13                                                0.0             \n",
       "p07_14                                                0.0             \n",
       "p07_15                                                0.0             \n",
       "p07_16                                                0.0             \n",
       "p07_17                                                0.0             \n",
       "p07_18                                                0.0             \n",
       "p07_19                                                0.0             \n",
       "p07_2                                               142.0             \n",
       "p07_3                                                 0.0             \n",
       "p07_4                                                 0.0             \n",
       "p07_5                                                 0.0             \n",
       "p07_6                                                 0.0             \n",
       "p07_7                                                 0.0             \n",
       "p07_8                                                 0.0             \n",
       "p07_9                                                 0.0             \n",
       "\n",
       "        13. Uso un administrador de contraseñas  \\\n",
       "p07_1                                       0.0   \n",
       "p07_10                                      0.0   \n",
       "p07_11                                      0.0   \n",
       "p07_12                                      0.0   \n",
       "p07_13                                      0.0   \n",
       "p07_14                                      0.0   \n",
       "p07_15                                      0.0   \n",
       "p07_16                                      0.0   \n",
       "p07_17                                      0.0   \n",
       "p07_18                                      0.0   \n",
       "p07_19                                      0.0   \n",
       "p07_2                                       0.0   \n",
       "p07_3                                      56.0   \n",
       "p07_4                                       0.0   \n",
       "p07_5                                       0.0   \n",
       "p07_6                                       0.0   \n",
       "p07_7                                       0.0   \n",
       "p07_8                                       0.0   \n",
       "p07_9                                       0.0   \n",
       "\n",
       "        14. Uso características biométricas (reconocimiento facial, huella digital)  \\\n",
       "p07_1                                                 0.0                             \n",
       "p07_10                                                0.0                             \n",
       "p07_11                                                0.0                             \n",
       "p07_12                                                0.0                             \n",
       "p07_13                                                0.0                             \n",
       "p07_14                                                0.0                             \n",
       "p07_15                                                0.0                             \n",
       "p07_16                                                0.0                             \n",
       "p07_17                                                0.0                             \n",
       "p07_18                                                0.0                             \n",
       "p07_19                                                0.0                             \n",
       "p07_2                                                 0.0                             \n",
       "p07_3                                                 0.0                             \n",
       "p07_4                                               193.0                             \n",
       "p07_5                                                 0.0                             \n",
       "p07_6                                                 0.0                             \n",
       "p07_7                                                 0.0                             \n",
       "p07_8                                                 0.0                             \n",
       "p07_9                                                 0.0                             \n",
       "\n",
       "        15. Evito entrar a Internet desde de accesos no seguros o desconocidos  \\\n",
       "p07_1                                                 0.0                        \n",
       "p07_10                                                0.0                        \n",
       "p07_11                                                0.0                        \n",
       "p07_12                                                0.0                        \n",
       "p07_13                                                0.0                        \n",
       "p07_14                                                0.0                        \n",
       "p07_15                                                0.0                        \n",
       "p07_16                                                0.0                        \n",
       "p07_17                                                0.0                        \n",
       "p07_18                                                0.0                        \n",
       "p07_19                                                0.0                        \n",
       "p07_2                                                 0.0                        \n",
       "p07_3                                                 0.0                        \n",
       "p07_4                                                 0.0                        \n",
       "p07_5                                               182.0                        \n",
       "p07_6                                                 0.0                        \n",
       "p07_7                                                 0.0                        \n",
       "p07_8                                                 0.0                        \n",
       "p07_9                                                 0.0                        \n",
       "\n",
       "        16. Verifico que el navegador no guarde mis contraseñas automáticamente  \\\n",
       "p07_1                                                 0.0                         \n",
       "p07_10                                                0.0                         \n",
       "p07_11                                                0.0                         \n",
       "p07_12                                                0.0                         \n",
       "p07_13                                                0.0                         \n",
       "p07_14                                                0.0                         \n",
       "p07_15                                                0.0                         \n",
       "p07_16                                                0.0                         \n",
       "p07_17                                                0.0                         \n",
       "p07_18                                                0.0                         \n",
       "p07_19                                                0.0                         \n",
       "p07_2                                                 0.0                         \n",
       "p07_3                                                 0.0                         \n",
       "p07_4                                                 0.0                         \n",
       "p07_5                                                 0.0                         \n",
       "p07_6                                               189.0                         \n",
       "p07_7                                                 0.0                         \n",
       "p07_8                                                 0.0                         \n",
       "p07_9                                                 0.0                         \n",
       "\n",
       "        17. Verifico que los sitios web a los que accedo poseen el “candadito” en la barra de direcciones que acredite que se trata de un sitio seguro  \\\n",
       "p07_1                                                 0.0                                                                                                \n",
       "p07_10                                                0.0                                                                                                \n",
       "p07_11                                                0.0                                                                                                \n",
       "p07_12                                                0.0                                                                                                \n",
       "p07_13                                                0.0                                                                                                \n",
       "p07_14                                                0.0                                                                                                \n",
       "p07_15                                                0.0                                                                                                \n",
       "p07_16                                                0.0                                                                                                \n",
       "p07_17                                                0.0                                                                                                \n",
       "p07_18                                                0.0                                                                                                \n",
       "p07_19                                                0.0                                                                                                \n",
       "p07_2                                                 0.0                                                                                                \n",
       "p07_3                                                 0.0                                                                                                \n",
       "p07_4                                                 0.0                                                                                                \n",
       "p07_5                                                 0.0                                                                                                \n",
       "p07_6                                                 0.0                                                                                                \n",
       "p07_7                                               119.0                                                                                                \n",
       "p07_8                                                 0.0                                                                                                \n",
       "p07_9                                                 0.0                                                                                                \n",
       "\n",
       "        18. Verifico que el nombre del sitio web al que accedo se corresponde con el que quiero visitar  \\\n",
       "p07_1                                                 0.0                                                 \n",
       "p07_10                                                0.0                                                 \n",
       "p07_11                                                0.0                                                 \n",
       "p07_12                                                0.0                                                 \n",
       "p07_13                                                0.0                                                 \n",
       "p07_14                                                0.0                                                 \n",
       "p07_15                                                0.0                                                 \n",
       "p07_16                                                0.0                                                 \n",
       "p07_17                                                0.0                                                 \n",
       "p07_18                                                0.0                                                 \n",
       "p07_19                                                0.0                                                 \n",
       "p07_2                                                 0.0                                                 \n",
       "p07_3                                                 0.0                                                 \n",
       "p07_4                                                 0.0                                                 \n",
       "p07_5                                                 0.0                                                 \n",
       "p07_6                                                 0.0                                                 \n",
       "p07_7                                                 0.0                                                 \n",
       "p07_8                                               139.0                                                 \n",
       "p07_9                                                 0.0                                                 \n",
       "\n",
       "        19. Ninguno  \n",
       "p07_1           0.0  \n",
       "p07_10          0.0  \n",
       "p07_11          0.0  \n",
       "p07_12          0.0  \n",
       "p07_13          0.0  \n",
       "p07_14          0.0  \n",
       "p07_15          0.0  \n",
       "p07_16          0.0  \n",
       "p07_17          0.0  \n",
       "p07_18          0.0  \n",
       "p07_19          0.0  \n",
       "p07_2           0.0  \n",
       "p07_3           0.0  \n",
       "p07_4           0.0  \n",
       "p07_5           0.0  \n",
       "p07_6           0.0  \n",
       "p07_7           0.0  \n",
       "p07_8           0.0  \n",
       "p07_9          20.0  "
      ]
     },
     "execution_count": 86,
     "metadata": {},
     "output_type": "execute_result"
    }
   ],
   "source": [
    "resumen_p07"
   ]
  },
  {
   "cell_type": "code",
   "execution_count": 87,
   "metadata": {},
   "outputs": [],
   "source": [
    "resumen_p07['Total'] = resumen_p07.sum(axis=1)"
   ]
  },
  {
   "cell_type": "markdown",
   "metadata": {},
   "source": [
    "Este grafico solo lo pienso usar como referencia, quedó horrendo"
   ]
  },
  {
   "cell_type": "code",
   "execution_count": 90,
   "metadata": {},
   "outputs": [
    {
     "data": {
      "image/png": "[encoded data removed]",
      "text/plain": [
       "<Figure size 800x550 with 1 Axes>"
      ]
     },
     "metadata": {},
     "output_type": "display_data"
    }
   ],
   "source": [
    "plt.barh(y=resumen_p07.columns[0:19], width=resumen_p07['Total'])\n",
    "plt.show()"
   ]
  },
  {
   "cell_type": "code",
   "execution_count": null,
   "metadata": {},
   "outputs": [],
   "source": []
  }
 ],
 "metadata": {
  "kernelspec": {
   "display_name": "Python 3",
   "language": "python",
   "name": "python3"
  },
  "language_info": {
   "codemirror_mode": {
    "name": "ipython",
    "version": 3
   },
   "file_extension": ".py",
   "mimetype": "text/x-python",
   "name": "python",
   "nbconvert_exporter": "python",
   "pygments_lexer": "ipython3",
   "version": "3.11.4"
  },
  "orig_nbformat": 4
 },
 "nbformat": 4,
 "nbformat_minor": 2
}
